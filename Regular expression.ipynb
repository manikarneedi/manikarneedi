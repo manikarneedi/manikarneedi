{
  "nbformat": 4,
  "nbformat_minor": 0,
  "metadata": {
    "colab": {
      "provenance": [],
      "authorship_tag": "ABX9TyNGzfsXecLMUwEN4WNU3Y14",
      "include_colab_link": true
    },
    "kernelspec": {
      "name": "python3",
      "display_name": "Python 3"
    },
    "language_info": {
      "name": "python"
    }
  },
  "cells": [
    {
      "cell_type": "markdown",
      "metadata": {
        "id": "view-in-github",
        "colab_type": "text"
      },
      "source": [
        "<a href=\"https://colab.research.google.com/github/manikarneedi/manikarneedi/blob/main/Regular%20expression.ipynb\" target=\"_parent\"><img src=\"https://colab.research.google.com/assets/colab-badge.svg\" alt=\"Open In Colab\"/></a>"
      ]
    },
    {
      "cell_type": "markdown",
      "source": [
        "Regular expression (regex)"
      ],
      "metadata": {
        "id": "RI6F47oXUr4N"
      }
    },
    {
      "cell_type": "markdown",
      "source": [
        "We use \"re\" module to import like:\n",
        "re.match\n",
        "\n",
        "\n",
        "re.search\n",
        "\n",
        "\n",
        "re.findall\n",
        "\n",
        "\n",
        "re.sub"
      ],
      "metadata": {
        "id": "YAuVYRLZU5k8"
      }
    },
    {
      "cell_type": "markdown",
      "source": [
        "--> re.match"
      ],
      "metadata": {
        "id": "xEMfcVD3VXH8"
      }
    },
    {
      "cell_type": "code",
      "source": [
        "import re\n",
        "a=\"mani from KMP\"\n",
        "print(re.match(\"mani\",a))\n",
        "print(re.match(\"from\",a))"
      ],
      "metadata": {
        "colab": {
          "base_uri": "https://localhost:8080/"
        },
        "id": "RYx7KXvSVZEn",
        "outputId": "c652a068-27a0-4a0e-ed0f-c12d97ec3db0"
      },
      "execution_count": 2,
      "outputs": [
        {
          "output_type": "stream",
          "name": "stdout",
          "text": [
            "<re.Match object; span=(0, 4), match='mani'>\n",
            "None\n"
          ]
        }
      ]
    },
    {
      "cell_type": "markdown",
      "source": [
        "--re.search"
      ],
      "metadata": {
        "id": "XPYbpUK3WJg6"
      }
    },
    {
      "cell_type": "code",
      "source": [
        "import re\n",
        "a=\"mani from KMP\"\n",
        "print(re.match(\"mani\",a))\n",
        "print(re.search(\"from\",a))"
      ],
      "metadata": {
        "colab": {
          "base_uri": "https://localhost:8080/"
        },
        "id": "7_0Z3FENWNQQ",
        "outputId": "58dd4782-e7d3-4a7b-af46-7c5fb355f29c"
      },
      "execution_count": 6,
      "outputs": [
        {
          "output_type": "stream",
          "name": "stdout",
          "text": [
            "<re.Match object; span=(0, 4), match='mani'>\n",
            "<re.Match object; span=(5, 9), match='from'>\n"
          ]
        }
      ]
    },
    {
      "cell_type": "markdown",
      "source": [
        "-->re.find all"
      ],
      "metadata": {
        "id": "t2d1IC9RWtdr"
      }
    },
    {
      "cell_type": "code",
      "source": [
        "import re\n",
        "a=\"mani from KMP 1,7,9,1,2,3\"\n",
        "print(re.findall(\"[0-9]+\",a))\n",
        "b=\"1,2,3,4,5\"\n",
        "print(re.findall(\"[0-9]+\",b))"
      ],
      "metadata": {
        "colab": {
          "base_uri": "https://localhost:8080/"
        },
        "id": "MWZLFUmaW0Jw",
        "outputId": "214370cd-0398-4551-f284-aa9a8873e799"
      },
      "execution_count": 20,
      "outputs": [
        {
          "output_type": "stream",
          "name": "stdout",
          "text": [
            "['1', '7', '9', '1', '2', '3']\n",
            "['1', '2', '3', '4', '5']\n"
          ]
        }
      ]
    },
    {
      "cell_type": "markdown",
      "source": [
        "To print capital or small letters we use ( r\"[A-Z][a-z]*\")"
      ],
      "metadata": {
        "id": "yYl_zx01gwn-"
      }
    },
    {
      "cell_type": "code",
      "source": [
        "import re\n",
        "A=\"Mani from KMP\"\n",
        "p=r\"[A-Z][a-z]*\"\n",
        "B=re.findall(p,A)\n",
        "print(B)"
      ],
      "metadata": {
        "colab": {
          "base_uri": "https://localhost:8080/"
        },
        "id": "sUOyOAKOdswm",
        "outputId": "74262e79-29a4-4018-badb-114b03a8da3d"
      },
      "execution_count": 55,
      "outputs": [
        {
          "output_type": "stream",
          "name": "stdout",
          "text": [
            "['Mani', 'K', 'M', 'P']\n"
          ]
        }
      ]
    },
    {
      "cell_type": "markdown",
      "source": [
        "-->re.sub\n",
        "\n",
        "Syntax:\n",
        "\n",
        "New_variable=re.sub(\"old text\",\"new text\", old variable)"
      ],
      "metadata": {
        "id": "ylXCGnebZLey"
      }
    },
    {
      "cell_type": "code",
      "source": [
        "import re\n",
        "a=\"mani from KMP\"\n",
        "new_a=re.sub(\"mani\",\"sivaji\",a)\n",
        "print(new_a)"
      ],
      "metadata": {
        "colab": {
          "base_uri": "https://localhost:8080/"
        },
        "id": "T1xJBB_-ZUfP",
        "outputId": "54f608fd-b3d2-428f-a64b-003848bd8765"
      },
      "execution_count": 22,
      "outputs": [
        {
          "output_type": "stream",
          "name": "stdout",
          "text": [
            "sivaji from KMP\n"
          ]
        }
      ]
    },
    {
      "cell_type": "code",
      "source": [
        "import re\n",
        "a=\"l like java,java is easy\"\n",
        "b=re.sub(\"java\",\"python\",a)\n",
        "print(b)"
      ],
      "metadata": {
        "colab": {
          "base_uri": "https://localhost:8080/"
        },
        "id": "s1GXxVDxbMCV",
        "outputId": "ccf154ac-db79-4bde-b5b3-97421aac39a7"
      },
      "execution_count": 43,
      "outputs": [
        {
          "output_type": "stream",
          "name": "stdout",
          "text": [
            "l like python,python is easy\n"
          ]
        }
      ]
    }
  ]
}