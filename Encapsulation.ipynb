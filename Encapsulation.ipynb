{
  "nbformat": 4,
  "nbformat_minor": 0,
  "metadata": {
    "colab": {
      "provenance": [],
      "authorship_tag": "ABX9TyOJ8TChUhwAJCqrvW7vWZhC",
      "include_colab_link": true
    },
    "kernelspec": {
      "name": "python3",
      "display_name": "Python 3"
    },
    "language_info": {
      "name": "python"
    }
  },
  "cells": [
    {
      "cell_type": "markdown",
      "metadata": {
        "id": "view-in-github",
        "colab_type": "text"
      },
      "source": [
        "<a href=\"https://colab.research.google.com/github/manikarneedi/manikarneedi/blob/main/Encapsulation.ipynb\" target=\"_parent\"><img src=\"https://colab.research.google.com/assets/colab-badge.svg\" alt=\"Open In Colab\"/></a>"
      ]
    },
    {
      "cell_type": "markdown",
      "source": [
        "@ Encapsulation:"
      ],
      "metadata": {
        "id": "mgoeYoRbRZDA"
      }
    },
    {
      "cell_type": "markdown",
      "source": [
        "-->Public"
      ],
      "metadata": {
        "id": "Dt_UpF1_SPN5"
      }
    },
    {
      "cell_type": "code",
      "source": [
        "class student:\n",
        "    def __init__(self,name,rollno):\n",
        "        self.name=name\n",
        "        self.rollno=rollno\n",
        "obj=student(\"MANI\",5)\n",
        "print(obj.name,obj.rollno)"
      ],
      "metadata": {
        "colab": {
          "base_uri": "https://localhost:8080/"
        },
        "id": "j0OqvRRtRqFs",
        "outputId": "a14a06e4-4f11-4ecb-81b4-53fac99e516e"
      },
      "execution_count": null,
      "outputs": [
        {
          "output_type": "stream",
          "name": "stdout",
          "text": [
            "MANI 5\n"
          ]
        }
      ]
    },
    {
      "cell_type": "markdown",
      "source": [
        "-->Protect"
      ],
      "metadata": {
        "id": "oydTbKkFSmgH"
      }
    },
    {
      "cell_type": "code",
      "source": [
        "class student:\n",
        "    def __init__(self,name,rollno):\n",
        "        self._name=name\n",
        "        self._rollno=rollno\n",
        "class child(student):\n",
        "    def display(self):\n",
        "        print(\"name: \",self._name)\n",
        "        print(\"rollnumber: \",self._rollno)\n",
        "obj=child(\"MANI\",5)\n",
        "obj.display()"
      ],
      "metadata": {
        "id": "Ew_En1IWSmI_",
        "colab": {
          "base_uri": "https://localhost:8080/"
        },
        "outputId": "f5d67205-84e6-49b2-bcdb-3b2fb1357104"
      },
      "execution_count": 10,
      "outputs": [
        {
          "output_type": "stream",
          "name": "stdout",
          "text": [
            "name:  MANI\n",
            "rollnumber:  5\n"
          ]
        }
      ]
    },
    {
      "cell_type": "markdown",
      "source": [
        "-->Private"
      ],
      "metadata": {
        "id": "BgBYozSoYorn"
      }
    },
    {
      "cell_type": "code",
      "source": [
        "class student:\n",
        "    def __init__(self,name,rollno):\n",
        "        self.__name=name\n",
        "        self.__rollno=rollno\n",
        "    def display(self):\n",
        "        print(\"name: \",self.__name)\n",
        "        print(\"rollno: \",self.__rollno)\n",
        "obj=student(\"MANI\",5)\n",
        "obj.display()"
      ],
      "metadata": {
        "colab": {
          "base_uri": "https://localhost:8080/"
        },
        "id": "4ZrlSKWVY7jA",
        "outputId": "c761b4c9-7731-48fd-acf2-edb946c37a87"
      },
      "execution_count": 19,
      "outputs": [
        {
          "output_type": "stream",
          "name": "stdout",
          "text": [
            "name:  MANI\n",
            "rollno:  5\n"
          ]
        }
      ]
    },
    {
      "cell_type": "markdown",
      "source": [
        "-->Private + protect"
      ],
      "metadata": {
        "id": "rIHUbT1mbd7a"
      }
    },
    {
      "cell_type": "code",
      "source": [
        "class demo:\n",
        "    def __init__(self,a,b):\n",
        "        self.__a=a #private\n",
        "        self._b=b #protect\n",
        "class demo2(demo):\n",
        "    def output(self):\n",
        "        print(\"value: \",self._b)\n",
        "d=demo2(5,7)\n",
        "d.output()"
      ],
      "metadata": {
        "colab": {
          "base_uri": "https://localhost:8080/"
        },
        "id": "gjsQqU5hbksZ",
        "outputId": "918eb483-db7f-429f-a6fa-be2f52f1b337"
      },
      "execution_count": 23,
      "outputs": [
        {
          "output_type": "stream",
          "name": "stdout",
          "text": [
            "value:  7\n"
          ]
        }
      ]
    },
    {
      "cell_type": "markdown",
      "source": [
        "-->public + private"
      ],
      "metadata": {
        "id": "CJFhVR8peFsW"
      }
    },
    {
      "cell_type": "code",
      "source": [
        "class demo:\n",
        "    def __init__(self,a,b):\n",
        "        self.a=a #public\n",
        "        self._b=b #private\n",
        "    def display(self):\n",
        "        print(\"value: \",self._b)\n",
        "d=demo(5,7)\n",
        "d.display()"
      ],
      "metadata": {
        "colab": {
          "base_uri": "https://localhost:8080/"
        },
        "id": "yqSaeoPneM1z",
        "outputId": "a06b2265-c916-48a2-a701-87034546125c"
      },
      "execution_count": 27,
      "outputs": [
        {
          "output_type": "stream",
          "name": "stdout",
          "text": [
            "value:  7\n"
          ]
        }
      ]
    }
  ]
}