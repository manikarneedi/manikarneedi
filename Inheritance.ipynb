{
  "nbformat": 4,
  "nbformat_minor": 0,
  "metadata": {
    "colab": {
      "provenance": [],
      "authorship_tag": "ABX9TyPFFw3ni295reoGzt72Uhqw",
      "include_colab_link": true
    },
    "kernelspec": {
      "name": "python3",
      "display_name": "Python 3"
    },
    "language_info": {
      "name": "python"
    }
  },
  "cells": [
    {
      "cell_type": "markdown",
      "metadata": {
        "id": "view-in-github",
        "colab_type": "text"
      },
      "source": [
        "<a href=\"https://colab.research.google.com/github/manikarneedi/manikarneedi/blob/main/Inheritance.ipynb\" target=\"_parent\"><img src=\"https://colab.research.google.com/assets/colab-badge.svg\" alt=\"Open In Colab\"/></a>"
      ]
    },
    {
      "cell_type": "markdown",
      "source": [
        "Single inheritance"
      ],
      "metadata": {
        "id": "b3jswvUf03Ui"
      }
    },
    {
      "cell_type": "code",
      "source": [
        "class parent:\n",
        "    def display(self):\n",
        "        print(\"this is parent node\")\n",
        "class child(parent):\n",
        "    def show(self):\n",
        "        print(\"this is child node\")\n",
        "a=child()\n",
        "a.display()\n",
        "a.show()"
      ],
      "metadata": {
        "colab": {
          "base_uri": "https://localhost:8080/"
        },
        "id": "hxfgsV8Pvq7x",
        "outputId": "0bb4fc5f-cb1a-42b8-99a1-c36674d3680f"
      },
      "execution_count": 9,
      "outputs": [
        {
          "output_type": "stream",
          "name": "stdout",
          "text": [
            "this is parent node\n",
            "this is child node\n"
          ]
        }
      ]
    },
    {
      "cell_type": "markdown",
      "source": [
        "multiple inheritance"
      ],
      "metadata": {
        "id": "LqPIJK6_0tol"
      }
    },
    {
      "cell_type": "code",
      "source": [
        "class father:\n",
        "    def father_info(self):\n",
        "        print(\"This is father node\")\n",
        "class mother:\n",
        "    def mother_info(self):\n",
        "        print(\"this is mother node\")\n",
        "class child(father,mother):\n",
        "    def child_info(self):\n",
        "        print(\"this is child node\")\n",
        "obj=child()\n",
        "obj.father_info()\n",
        "obj.mother_info()\n",
        "obj.child_info()"
      ],
      "metadata": {
        "colab": {
          "base_uri": "https://localhost:8080/"
        },
        "id": "5wr7pkUkxVVE",
        "outputId": "e90c4787-2ea6-4224-b0db-3af5376a5cee"
      },
      "execution_count": 24,
      "outputs": [
        {
          "output_type": "stream",
          "name": "stdout",
          "text": [
            "This is father node\n",
            "this is mother node\n",
            "this is child node\n"
          ]
        }
      ]
    },
    {
      "cell_type": "markdown",
      "source": [
        "Multi level inheritance"
      ],
      "metadata": {
        "id": "BZqH66dg3seq"
      }
    },
    {
      "cell_type": "code",
      "source": [
        "class grand:\n",
        "    def grandfather_info(self):\n",
        "        print(\"this is grand parent node\")\n",
        "class parent(grand):\n",
        "    def parent_info(self):\n",
        "        print(\"this is parent node\")\n",
        "class child(parent):\n",
        "    def child_info(self):\n",
        "        print(\"this is child node\")\n",
        "obj=child()\n",
        "obj.grandfather_info()\n",
        "obj.parent_info()\n",
        "obj.child_info()"
      ],
      "metadata": {
        "colab": {
          "base_uri": "https://localhost:8080/"
        },
        "id": "qjudo7kB3sKS",
        "outputId": "9c2fa49d-2213-4e0c-d546-4277be985db6"
      },
      "execution_count": 26,
      "outputs": [
        {
          "output_type": "stream",
          "name": "stdout",
          "text": [
            "this is grand parent node\n",
            "this is parent node\n",
            "this is child node\n"
          ]
        }
      ]
    },
    {
      "cell_type": "code",
      "source": [
        "class details:\n",
        "    def name_info(self):\n",
        "        print(\"MANI\")\n",
        "class marks(details):\n",
        "    def marks_info(self):\n",
        "        print(\"99\")\n",
        "class result(marks):\n",
        "    def result_info(self):\n",
        "        print(\"P\")\n",
        "obj=result()\n",
        "obj.name_info()\n",
        "obj.marks_info()\n",
        "obj.result_info()"
      ],
      "metadata": {
        "colab": {
          "base_uri": "https://localhost:8080/"
        },
        "id": "ZaGYe9nQ7EpQ",
        "outputId": "60209286-d24c-45e3-ab1d-25721d316fe4"
      },
      "execution_count": 28,
      "outputs": [
        {
          "output_type": "stream",
          "name": "stdout",
          "text": [
            "MANI\n",
            "99\n",
            "P\n"
          ]
        }
      ]
    },
    {
      "cell_type": "markdown",
      "source": [
        "Hierarcical inheritance"
      ],
      "metadata": {
        "id": "T3VkXK008usv"
      }
    },
    {
      "cell_type": "code",
      "source": [
        "class parent:\n",
        "    def parent_info(self):\n",
        "        print(\"this is parent node\")\n",
        "class child_one(parent):\n",
        "    def child_info(self):\n",
        "        print(\"this is child 1\")\n",
        "class child_two(parent):\n",
        "    def childd_info(self):\n",
        "        print(\"this is child 2\")\n",
        "obj=child_one()\n",
        "obj1=child_two()\n",
        "obj.parent_info()\n",
        "obj.child_info()\n",
        "obj1.childd_info()"
      ],
      "metadata": {
        "colab": {
          "base_uri": "https://localhost:8080/"
        },
        "id": "QcF4zZfo84Ub",
        "outputId": "b0e52a4c-634f-44f4-e936-986dab5d91b3"
      },
      "execution_count": 30,
      "outputs": [
        {
          "output_type": "stream",
          "name": "stdout",
          "text": [
            "this is parent node\n",
            "this is child 1\n",
            "this is child 2\n"
          ]
        }
      ]
    },
    {
      "cell_type": "markdown",
      "source": [
        "Hybrid inheritance it is combination of multi"
      ],
      "metadata": {
        "id": "JVqdpKIdBHq7"
      }
    },
    {
      "cell_type": "code",
      "source": [
        "class M:\n",
        "    def m_in(self):\n",
        "        print(\"Class M\")\n",
        "class N(M):\n",
        "    def n_in(self):\n",
        "        print(\"Class N\")\n",
        "class O(M):\n",
        "    def o_in(self):\n",
        "        print(\"Class O\")\n",
        "class A(N,O):\n",
        "    def a_in(self):\n",
        "        print(\"Class A\")\n",
        "obj=A()\n",
        "obj.m_in()\n",
        "obj.n_in()\n",
        "obj.o_in()\n",
        "obj.a_in()"
      ],
      "metadata": {
        "colab": {
          "base_uri": "https://localhost:8080/"
        },
        "id": "WGE5Bb_rBNnn",
        "outputId": "c671ce46-6d0f-45b1-b6c4-1fb27dc7418f"
      },
      "execution_count": 36,
      "outputs": [
        {
          "output_type": "stream",
          "name": "stdout",
          "text": [
            "Class M\n",
            "Class N\n",
            "Class O\n",
            "Class A\n"
          ]
        }
      ]
    }
  ]
}